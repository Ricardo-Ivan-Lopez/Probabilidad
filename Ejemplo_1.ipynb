{
 "cells": [
  {
   "cell_type": "code",
   "execution_count": 1,
   "id": "24553020",
   "metadata": {},
   "outputs": [
    {
     "name": "stdout",
     "output_type": "stream",
     "text": [
      "La probabilidad de que salga un 3 en un dado de 6 caras es: 0.16666666666666666\n"
     ]
    }
   ],
   "source": [
    "############## Ejemplo Probabilidad ##############\n",
    "\n",
    "\"\"\" Si lanzamos un dado de 6 caras y queremos saber la probabilidad de que salga un número específico (por ejemplo, un 3).\"\"\"\n",
    "\n",
    "import random\n",
    "\n",
    "# Definimos la función que calcula la probabilidad clásica\n",
    "def probabilidad_clasica(evento_favorable, total_resultados):\n",
    "    return evento_favorable / total_resultados\n",
    "\n",
    "# Número de resultados favorables (queremos que salga un 3 en un dado de 6 caras)\n",
    "resultados_favorables = 1\n",
    "\n",
    "# Total de posibles resultados (un dado tiene 6 caras)\n",
    "total_resultados = 6\n",
    "\n",
    "# Calculamos la probabilidad clásica\n",
    "probabilidad = probabilidad_clasica(resultados_favorables, total_resultados)\n",
    "\n",
    "print(f'La probabilidad de que salga un 3 en un dado de 6 caras es: {probabilidad}')"
   ]
  },
  {
   "cell_type": "code",
   "execution_count": null,
   "id": "c62b1212",
   "metadata": {},
   "outputs": [],
   "source": []
  }
 ],
 "metadata": {
  "kernelspec": {
   "display_name": "Python 3 (ipykernel)",
   "language": "python",
   "name": "python3"
  },
  "language_info": {
   "codemirror_mode": {
    "name": "ipython",
    "version": 3
   },
   "file_extension": ".py",
   "mimetype": "text/x-python",
   "name": "python",
   "nbconvert_exporter": "python",
   "pygments_lexer": "ipython3",
   "version": "3.11.5"
  }
 },
 "nbformat": 4,
 "nbformat_minor": 5
}
