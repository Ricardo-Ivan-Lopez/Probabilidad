{
 "cells": [
  {
   "cell_type": "code",
   "execution_count": 21,
   "id": "415bff6d",
   "metadata": {},
   "outputs": [
    {
     "name": "stdout",
     "output_type": "stream",
     "text": [
      "El coeficiente de correlación es: 1.00\n"
     ]
    }
   ],
   "source": [
    "#################### COEFICIENTE DE CORRELACIÓN ####################\n",
    "import numpy as np\n",
    "from scipy.special import binom\n",
    "\n",
    "\n",
    "def calcular_covarianza(X1, X2):\n",
    "    media_X1 = np.mean(X1)\n",
    "    media_X2 = np.mean(X2)\n",
    "    covarianza = np.mean((X1 - media_X1) * (X2 - media_X2))\n",
    "    return covarianza\n",
    "\n",
    "def calcular_momento_no_central(X, n):\n",
    "    return np.mean(X ** n)\n",
    "\n",
    "def calcular_varianza(X, n):\n",
    "    momento_central = 0\n",
    "    media = np.mean(X)\n",
    "    \n",
    "    for k in range(n + 1):\n",
    "        coef_binomial = binom(n, k)  \n",
    "        signo = (-1) ** (n - k)\n",
    "        momento_no_central = calcular_momento_no_central(X, n - k)\n",
    "        momento_central += coef_binomial * signo * (media ** k) * momento_no_central\n",
    "    \n",
    "    return momento_central\n",
    "\n",
    "def coeficiente_correlacion(x, y):\n",
    "    cov = calcular_covarianza(x, y)\n",
    "    var_x = calcular_varianza(x,2)\n",
    "    var_y = calcular_varianza(y,2)\n",
    "    r = cov / np.sqrt(var_x * var_y)\n",
    "    return r\n",
    "\n",
    "# Ejemplo de uso\n",
    "x = np.array([1, 2, 3, 4, 5])\n",
    "y = np.array([2, 4, 6, 8, 10])\n",
    "\n",
    "resultado = coeficiente_correlacion(x, y)\n",
    "print(f'El coeficiente de correlación es: {resultado:.2f}')\n"
   ]
  },
  {
   "cell_type": "code",
   "execution_count": null,
   "id": "58efb6b2",
   "metadata": {},
   "outputs": [],
   "source": []
  },
  {
   "cell_type": "code",
   "execution_count": null,
   "id": "1664bf4f",
   "metadata": {},
   "outputs": [],
   "source": []
  }
 ],
 "metadata": {
  "kernelspec": {
   "display_name": "Python 3 (ipykernel)",
   "language": "python",
   "name": "python3"
  },
  "language_info": {
   "codemirror_mode": {
    "name": "ipython",
    "version": 3
   },
   "file_extension": ".py",
   "mimetype": "text/x-python",
   "name": "python",
   "nbconvert_exporter": "python",
   "pygments_lexer": "ipython3",
   "version": "3.11.5"
  }
 },
 "nbformat": 4,
 "nbformat_minor": 5
}
