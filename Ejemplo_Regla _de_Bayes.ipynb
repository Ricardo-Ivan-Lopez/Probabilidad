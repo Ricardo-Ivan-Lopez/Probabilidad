{
 "cells": [
  {
   "cell_type": "code",
   "execution_count": 1,
   "id": "00cf9da9",
   "metadata": {},
   "outputs": [],
   "source": [
    "############################     REGLA DE BAYES   ############################ \n",
    "\n",
    "\n",
    "#El 20% de los empleados de una empresa son ingenieros y otro 20% son economistas. \n",
    "#El 75% de los ingenieros ocupan un puesto directivo y el 50% de los economistas también, \n",
    "#mientras que los no ingenieros y los no economistas solamente el 20% ocupa un puesto directivo. \n",
    "#¿Cuál es la probabilidad de que un empleado directivo elegido al azar sea ingeniero?\n",
    "\n",
    "\n",
    "#Eventos:\n",
    "# A1-Los empleados son ingenieros\n",
    "# A2-Los empleados son economistas \n",
    "# A3-Los empleados tienen otra carrera\n",
    "\n",
    "#Evento B\n",
    "# B-El empleado ocupa un puesto directivo"
   ]
  },
  {
   "cell_type": "code",
   "execution_count": 2,
   "id": "7ff8859c",
   "metadata": {},
   "outputs": [],
   "source": [
    "P_A1 = 0.2 # Probabilidad de que los empleados son ingenieros\n",
    "P_A2 = 0.2 # Probabilidad de que los empleados son economistas\n",
    "P_A3 = 0.6 # Probabilidad de que los empleados tienen otra carrera"
   ]
  },
  {
   "cell_type": "code",
   "execution_count": 3,
   "id": "b561fee8",
   "metadata": {},
   "outputs": [
    {
     "name": "stdout",
     "output_type": "stream",
     "text": [
      "La probabilidad de que un empleado sea ingeniero dado que es directivo es:\n",
      "0.4054054054054055\n"
     ]
    }
   ],
   "source": [
    "#El ejercicio nos da las siguientes probabilidades\n",
    "P_B_dado_A1 = 0.75\n",
    "P_B_dado_A2 = 0.5\n",
    "P_B_dado_A3 = 0.2\n",
    "\n",
    "# Calculamos la probabilidad de que un empleado sea ingeniero dado que a priori sabemos que es directivo. \n",
    "# Siguiendo la fórmula de Bayes tenemos que:\n",
    "\n",
    "P_A1_dado_B = (P_B_dado_A1 * P_A1) / ((P_B_dado_A1 * P_A1) + (P_B_dado_A2 * P_A2) + (P_B_dado_A3 * P_A3))\n",
    "\n",
    "print(\"La probabilidad de que un empleado sea ingeniero dado que es directivo es:\")\n",
    "print(P_A1_dado_B)"
   ]
  },
  {
   "cell_type": "code",
   "execution_count": null,
   "id": "4aca2471",
   "metadata": {},
   "outputs": [],
   "source": []
  },
  {
   "cell_type": "code",
   "execution_count": null,
   "id": "01dd36f7",
   "metadata": {},
   "outputs": [],
   "source": []
  }
 ],
 "metadata": {
  "kernelspec": {
   "display_name": "Python 3 (ipykernel)",
   "language": "python",
   "name": "python3"
  },
  "language_info": {
   "codemirror_mode": {
    "name": "ipython",
    "version": 3
   },
   "file_extension": ".py",
   "mimetype": "text/x-python",
   "name": "python",
   "nbconvert_exporter": "python",
   "pygments_lexer": "ipython3",
   "version": "3.11.5"
  }
 },
 "nbformat": 4,
 "nbformat_minor": 5
}
