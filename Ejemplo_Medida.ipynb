{
 "cells": [
  {
   "cell_type": "code",
   "execution_count": 1,
   "id": "1540589d",
   "metadata": {},
   "outputs": [
    {
     "name": "stdout",
     "output_type": "stream",
     "text": [
      "    Indice  Valor\n",
      "0        1      1\n",
      "1        2      0\n",
      "2        3      0\n",
      "3        4      0\n",
      "4        5      1\n",
      "..     ...    ...\n",
      "95      96      1\n",
      "96      97      0\n",
      "97      98      1\n",
      "98      99      0\n",
      "99     100      1\n",
      "\n",
      "[100 rows x 2 columns]\n"
     ]
    }
   ],
   "source": [
    "########### EJEMPLO MEDIDA ###########\n",
    "\"\"\"Generar un conjunto de 100 datos aleatorios en un espacio muestral omega={0, 1}, \n",
    "calcular la probabilidad de w1 y w2 y verificar que P(omega) = 1\"\"\"\n",
    "\n",
    "import numpy as np\n",
    "import pandas as pd\n",
    "\n",
    "# Generar 100 datos aleatorios en el espacio muestral Omega = {0, 1}\n",
    "omega = [0, 1]\n",
    "datos = np.random.choice(omega, 100)\n",
    "\n",
    "# Crear una tabla de los datos generados\n",
    "data = {\n",
    "    'Indice': np.arange(1, 101),\n",
    "    'Valor': datos\n",
    "}\n",
    "\n",
    "df = pd.DataFrame(data)\n",
    "print(df)"
   ]
  },
  {
   "cell_type": "code",
   "execution_count": 2,
   "id": "e25841d8",
   "metadata": {},
   "outputs": [],
   "source": [
    "# Calcular la frecuencia de cada w1 (0) y w2 (1)\n",
    "frecuencia_w1 = np.sum(datos == 0)\n",
    "frecuencia_w2 = np.sum(datos == 1)\n",
    "\n",
    "# Calcular la probabilidad de cada w1 y w2 (numero de resultados favorables dividido por el numero total de resultados)\n",
    "prob_w1 = frecuencia_w1 / 100\n",
    "prob_w2 = frecuencia_w2 / 100"
   ]
  },
  {
   "cell_type": "code",
   "execution_count": 3,
   "id": "758ab71e",
   "metadata": {},
   "outputs": [
    {
     "name": "stdout",
     "output_type": "stream",
     "text": [
      "Frecuencia de w1 (0): 46\n",
      "Frecuencia de w2 (1): 54\n",
      "Probabilidad de w1 (0): 0.46\n",
      "Probabilidad de w2 (1): 0.54\n",
      "Verificación de P(Omega): 1.0\n"
     ]
    }
   ],
   "source": [
    "# Verificar el axioma P(Omega) = 1\n",
    "P_Omega = prob_w1 + prob_w2\n",
    "\n",
    "# Resultados\n",
    "print(f\"Frecuencia de w1 (0): {frecuencia_w1}\")\n",
    "print(f\"Frecuencia de w2 (1): {frecuencia_w2}\")\n",
    "print(f\"Probabilidad de w1 (0): {prob_w1}\")\n",
    "print(f\"Probabilidad de w2 (1): {prob_w2}\")\n",
    "print(f\"Verificación de P(Omega): {P_Omega}\")"
   ]
  },
  {
   "cell_type": "code",
   "execution_count": null,
   "id": "4e0449eb",
   "metadata": {},
   "outputs": [],
   "source": []
  },
  {
   "cell_type": "code",
   "execution_count": null,
   "id": "d0fe52cd",
   "metadata": {},
   "outputs": [],
   "source": []
  }
 ],
 "metadata": {
  "kernelspec": {
   "display_name": "Python 3 (ipykernel)",
   "language": "python",
   "name": "python3"
  },
  "language_info": {
   "codemirror_mode": {
    "name": "ipython",
    "version": 3
   },
   "file_extension": ".py",
   "mimetype": "text/x-python",
   "name": "python",
   "nbconvert_exporter": "python",
   "pygments_lexer": "ipython3",
   "version": "3.11.5"
  }
 },
 "nbformat": 4,
 "nbformat_minor": 5
}
