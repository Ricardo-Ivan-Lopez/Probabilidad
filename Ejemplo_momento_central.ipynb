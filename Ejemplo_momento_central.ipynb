{
 "cells": [
  {
   "cell_type": "code",
   "execution_count": 12,
   "id": "00668376",
   "metadata": {},
   "outputs": [
    {
     "name": "stdout",
     "output_type": "stream",
     "text": [
      "B_3 (momento central de orden 3 usando el teorema binomial) = 0.5353920000000016\n",
      "B2 (momento central de segundo orden usando teorema binomial) = 1.6744000000000003\n",
      "Varianza calculada directamente = 1.6743999999999999\n",
      "Verificación exitosa: B2 es igual a la varianza.\n"
     ]
    }
   ],
   "source": [
    "########################## MOMENTOS CENTRAL DE UNA VARIABLE ALEATORIA ##########################\n",
    "import numpy as np\n",
    "from scipy.special import binom\n",
    "\n",
    "def calcular_momento_no_central(X, n):\n",
    "    return np.mean(X ** n)\n",
    "\n",
    "def calcular_momento_central_binomial(X, n):\n",
    "    momento_central = 0\n",
    "    media = np.mean(X)\n",
    "    \n",
    "    for k in range(n + 1):\n",
    "        coef_binomial = binom(n, k)  \n",
    "        signo = (-1) ** (n - k)\n",
    "        momento_no_central = calcular_momento_no_central(X, n - k)\n",
    "        momento_central += coef_binomial * signo * (media ** k) * momento_no_central\n",
    "    \n",
    "    return momento_central\n",
    "\n",
    "def calcular_varianza(X):\n",
    "    return np.var(X, ddof=0)  # Varianza muestral (equivalente a B2)\n",
    "\n",
    "# Ejemplo de uso\n",
    "X = np.array([2.3, 4.5, 1.6, 3.8, 5.0])\n",
    "\n",
    "# Calcular Bn utilizando el teorema binomial\n",
    "n = 3  # Orden del momento\n",
    "Bn_binomial = calcular_momento_central_binomial(X, n)\n",
    "print(f'B_{n} (momento central de orden {n} usando el teorema binomial) =', Bn_binomial)\n",
    "\n",
    "# Calcular B2 (momento central de segundo orden) y la varianza\n",
    "B2_binomial = calcular_momento_central_binomial(X, 2)\n",
    "varianza = calcular_varianza(X)\n",
    "print('B2 (momento central de segundo orden usando teorema binomial) =', B2_binomial)\n",
    "print('Varianza calculada directamente =', varianza)\n",
    "\n",
    "# Verificar si B2 es igual a la varianza\n",
    "if np.isclose(B2_binomial, varianza):\n",
    "    print('Verificación exitosa: B2 es igual a la varianza.')\n"
   ]
  },
  {
   "cell_type": "code",
   "execution_count": 14,
   "id": "9de23682",
   "metadata": {},
   "outputs": [
    {
     "name": "stdout",
     "output_type": "stream",
     "text": [
      "B_{3,3} (momento conjunto de orden (3, 3)) = 10.510820288640002\n",
      "Covarianza usando B11=E[X1X2]-E[X1]E[X2] = 1.6487999999999978\n",
      "Covarianza calculada directamente = 1.6488\n",
      "Verificación exitosa: Los calculos de las covarianzas son iguales.\n"
     ]
    }
   ],
   "source": [
    "########################## MOMENTOS CONJUNTOS ##########################\n",
    "import numpy as np\n",
    "from scipy.special import binom\n",
    "\n",
    "def calcular_covarianza_igualdad(X1, X2):\n",
    "    media_X1 = np.mean(X1)\n",
    "    media_X2 = np.mean(X2)\n",
    "    \n",
    "    E_X1_X2 = np.mean(X1 * X2)\n",
    "    covarianza_binomial = E_X1_X2 - media_X1 * media_X2\n",
    "    \n",
    "    return covarianza_binomial\n",
    "\n",
    "def calcular_covarianza_B11(X1, X2):\n",
    "    media_X1 = np.mean(X1)\n",
    "    media_X2 = np.mean(X2)\n",
    "    covarianza = np.mean((X1 - media_X1) * (X2 - media_X2))\n",
    "    return covarianza\n",
    "\n",
    "def calcular_momento_conjunto(X1, X2, n, m):\n",
    "    media_X1 = np.mean(X1)\n",
    "    media_X2 = np.mean(X2)\n",
    "    \n",
    "    # Cálculo del momento conjunto Bn,m\n",
    "    Bnm = np.mean((X1 - media_X1) ** n * (X2 - media_X2) ** m)\n",
    "    \n",
    "    return Bnm\n",
    "\n",
    "# Ejemplo de uso\n",
    "X1 = np.array([2.3, 4.5, 1.6, 3.8, 5.0])\n",
    "X2 = np.array([1.9, 4.1, 1.4, 3.2, 4.8])\n",
    "\n",
    "# Calcular B3,3 (momento conjunto)\n",
    "n = 3\n",
    "m = 3\n",
    "B11_11 = calcular_momento_conjunto(X1, X2, n, m)\n",
    "print(f'B_{{{n},{m}}} (momento conjunto de orden ({n}, {m})) =', B11_11)\n",
    "\n",
    "\n",
    "# Calcular la covarianza usando B11=E[X1X2]-E[X1]E[X2]\n",
    "cov_igu = calcular_covarianza_igualdad(X1, X2)\n",
    "print('Covarianza usando B11=E[X1X2]-E[X1]E[X2] =', cov_igu)\n",
    "\n",
    "# Calcular la covarianza\n",
    "cov_directa = calcular_covarianza_B11(X1, X2)\n",
    "print('Covarianza calculada directamente =', cov_directa)\n",
    "\n",
    "# Verificar si las covarianzas son iguales\n",
    "if np.isclose(cov_igu, cov_directa):\n",
    "    print('Verificación exitosa: Los calculos de las covarianzas son iguales.')\n",
    "\n"
   ]
  },
  {
   "cell_type": "code",
   "execution_count": null,
   "id": "cf027c81",
   "metadata": {},
   "outputs": [],
   "source": []
  },
  {
   "cell_type": "code",
   "execution_count": null,
   "id": "6e250166",
   "metadata": {},
   "outputs": [],
   "source": []
  }
 ],
 "metadata": {
  "kernelspec": {
   "display_name": "Python 3 (ipykernel)",
   "language": "python",
   "name": "python3"
  },
  "language_info": {
   "codemirror_mode": {
    "name": "ipython",
    "version": 3
   },
   "file_extension": ".py",
   "mimetype": "text/x-python",
   "name": "python",
   "nbconvert_exporter": "python",
   "pygments_lexer": "ipython3",
   "version": "3.11.5"
  }
 },
 "nbformat": 4,
 "nbformat_minor": 5
}
