{
 "cells": [
  {
   "cell_type": "code",
   "execution_count": 55,
   "id": "9b586e10",
   "metadata": {
    "scrolled": true
   },
   "outputs": [
    {
     "name": "stdout",
     "output_type": "stream",
     "text": [
      "E[X] Simétrica: 0.0, Media Aritmética: 0\n",
      "E[X] Asimétrica: 0.9995006007726127, Media Aritmética: 1\n",
      "E[(X - 0)^2] Simétrico: 0.5\n",
      "E[g(x)]: 0.10105771959856732, E[h(x)]: -0.39894228040143276\n",
      "E[XY]: 1.0, E[X]*E[Y]: 1.0\n"
     ]
    }
   ],
   "source": [
    "################## VALOR ESPERADO ##################\n",
    "import numpy as np\n",
    "import scipy.integrate as spi\n",
    "import matplotlib.pyplot as plt\n",
    "\n",
    "# Definición de la función de densidad simétrica (ejemplo: distribución normal)\n",
    "def f_simetrica(x):\n",
    "    return (1/np.sqrt(2 * np.pi)) * np.exp(-0.5 * x**2)\n",
    "\n",
    "# Definición de la función de densidad asimétrica (ejemplo: distribución exponencial)\n",
    "def f_asimetrica(x):\n",
    "    return np.where(x >= 0, 1 * np.exp(-x), 0)\n",
    "\n",
    "# Calcular el valor esperado\n",
    "def valor_esperado(f, a, b):\n",
    "    return spi.quad(lambda x: x * f(x), a, b)[0]\n",
    "\n",
    "def valor_esperado2(f, a, b):\n",
    "    return spi.quad(lambda x: (x+1) * f(x), a, b)[0]\n",
    "\n",
    "# Definir límites de integración\n",
    "a, b = -10, 10  # Para la función simétrica\n",
    "c, d = 0, 10    # Para la función asimétrica\n",
    "\n",
    "# Cálculo de valores esperados\n",
    "E_simetrica = valor_esperado(f_simetrica, a, b)\n",
    "E_asimetrica = valor_esperado(f_asimetrica, c, d)\n",
    "\n",
    "# Media aritmética de las funciones\n",
    "media_simetrica = 0  # Para la normal, la media es 0\n",
    "media_asimetrica = 1  # Media de la distribución exponencial\n",
    "\n",
    "# Comparar E[X] con la media aritmética\n",
    "print(f\"E[X] Simétrica: {E_simetrica}, Media Aritmética: {media_simetrica}\")\n",
    "print(f\"E[X] Asimétrica: {E_asimetrica}, Media Aritmética: {media_asimetrica}\")\n",
    "\n",
    "# Verificar propiedades\n",
    "# 1) E[x] = b minimiza E[(x-b)^2]\n",
    "b = media_simetrica\n",
    "E_error_cuadratico_simetrico = spi.quad(lambda x: (x - b)**2 * f_simetrica(x), a, b)[0]\n",
    "print(f\"E[(X - {b})^2] Simétrico: {E_error_cuadratico_simetrico}\")\n",
    "\n",
    "# 2) Si g(x) >= h(x) entonces E[g(x)] >= E[h(x)]\n",
    "#g(x) = x + 1 \n",
    "#h(x) = x \n",
    "E_g = valor_esperado2(f_simetrica, a, b)\n",
    "E_h = valor_esperado(f_simetrica, a, b)\n",
    "print(f\"E[g(x)]: {E_g}, E[h(x)]: {E_h}\")\n",
    "\n",
    "# 3) E[xy] = E[x]E[y]\n",
    "# Definición de la función de densidad de X (normal)\n",
    "def f_x(x):\n",
    "    return (1 / np.sqrt(2 * np.pi)) * np.exp(-0.5 * x**2)\n",
    "\n",
    "# Definición de la función de densidad de Y (normal)\n",
    "def f_y(y):\n",
    "    return (1 / np.sqrt(2 * np.pi)) * np.exp(-0.5 * y**2)\n",
    "\n",
    "# Calcular E[XY]\n",
    "def valor_esperado_xy(a, b, c, d):\n",
    "    return spi.dblquad(lambda x, y: x**2 * y**2 * f_x(x) * f_y(y), a, b, lambda x: c, lambda x: d)[0]\n",
    "\n",
    "# Definir límites de integración\n",
    "a, b = -10, 10  # Para X\n",
    "c, d = -10, 10  # Para Y\n",
    "\n",
    "# Calcular E[XY]\n",
    "E_xy = valor_esperado_xy(a, b, c, d)\n",
    "\n",
    "# Calcular E[X] y E[Y]\n",
    "E_x = spi.quad(lambda x: x**2 * f_x(x), a, b)[0]\n",
    "E_y = spi.quad(lambda y: y**2 * f_y(y), c, d)[0]\n",
    "\n",
    "# Imprimir resultados\n",
    "print(f\"E[XY]: {E_xy}, E[X]*E[Y]: {E_x * E_y}\")\n"
   ]
  },
  {
   "cell_type": "code",
   "execution_count": null,
   "id": "3bf301f1",
   "metadata": {},
   "outputs": [],
   "source": []
  },
  {
   "cell_type": "code",
   "execution_count": null,
   "id": "498fed6c",
   "metadata": {},
   "outputs": [],
   "source": []
  },
  {
   "cell_type": "code",
   "execution_count": null,
   "id": "837fb99c",
   "metadata": {},
   "outputs": [],
   "source": []
  },
  {
   "cell_type": "code",
   "execution_count": null,
   "id": "820e9775",
   "metadata": {
    "scrolled": true
   },
   "outputs": [],
   "source": []
  },
  {
   "cell_type": "code",
   "execution_count": null,
   "id": "11129754",
   "metadata": {},
   "outputs": [],
   "source": []
  },
  {
   "cell_type": "code",
   "execution_count": null,
   "id": "6d13648d",
   "metadata": {},
   "outputs": [],
   "source": []
  }
 ],
 "metadata": {
  "kernelspec": {
   "display_name": "Python 3 (ipykernel)",
   "language": "python",
   "name": "python3"
  },
  "language_info": {
   "codemirror_mode": {
    "name": "ipython",
    "version": 3
   },
   "file_extension": ".py",
   "mimetype": "text/x-python",
   "name": "python",
   "nbconvert_exporter": "python",
   "pygments_lexer": "ipython3",
   "version": "3.11.5"
  }
 },
 "nbformat": 4,
 "nbformat_minor": 5
}
