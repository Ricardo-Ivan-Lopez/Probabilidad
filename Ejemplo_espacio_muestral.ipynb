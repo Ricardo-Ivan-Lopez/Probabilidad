{
 "cells": [
  {
   "cell_type": "code",
   "execution_count": 1,
   "id": "59a0d7d3",
   "metadata": {},
   "outputs": [
    {
     "name": "stdout",
     "output_type": "stream",
     "text": [
      "El espacio muestral para dos lanzamientos de una moneda es: [('C', 'C'), ('C', 'X'), ('X', 'C'), ('X', 'X')]\n"
     ]
    }
   ],
   "source": [
    "############## Ejemplo espacio muestral ##############\n",
    "\n",
    "\"\"\" Si lanzamos una moneda dos veces. El espacio muestral incluirá todas las combinaciones de resultados \n",
    "de cada lanzamiento: cara (C) y cruz (X).\"\"\"\n",
    "\n",
    "# Definimos el espacio muestral para dos lanzamientos de una moneda\n",
    "def espacio_muestral_monedas():\n",
    "    return [(lanzamiento1, lanzamiento2) for lanzamiento1 in ['C', 'X'] for lanzamiento2 in ['C', 'X']]\n",
    "\n",
    "# Generamos el espacio muestral\n",
    "espacio_muestral = espacio_muestral_monedas()\n",
    "\n",
    "# Mostramos el espacio muestral\n",
    "print(f'El espacio muestral para dos lanzamientos de una moneda es: {espacio_muestral}')"
   ]
  },
  {
   "cell_type": "code",
   "execution_count": null,
   "id": "55b67905",
   "metadata": {},
   "outputs": [],
   "source": []
  }
 ],
 "metadata": {
  "kernelspec": {
   "display_name": "Python 3 (ipykernel)",
   "language": "python",
   "name": "python3"
  },
  "language_info": {
   "codemirror_mode": {
    "name": "ipython",
    "version": 3
   },
   "file_extension": ".py",
   "mimetype": "text/x-python",
   "name": "python",
   "nbconvert_exporter": "python",
   "pygments_lexer": "ipython3",
   "version": "3.11.5"
  }
 },
 "nbformat": 4,
 "nbformat_minor": 5
}
