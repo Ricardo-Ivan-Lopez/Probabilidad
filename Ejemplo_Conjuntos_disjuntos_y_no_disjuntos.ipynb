{
 "cells": [
  {
   "cell_type": "code",
   "execution_count": 1,
   "id": "0fda24e8",
   "metadata": {},
   "outputs": [
    {
     "name": "stdout",
     "output_type": "stream",
     "text": [
      "Ejercicio: Conjuntos Disjuntos\n",
      "P(A ∪ B) = 0.67\n",
      "P(A ∩ B) = 0.00\n",
      "Verificación de la fórmula P(A ∪ B) = P(A) + P(B) cuando son disjuntos: 0.67\n"
     ]
    }
   ],
   "source": [
    "################# CONJUNTOS DISJUNTOS #################\n",
    "\n",
    "#Supongamos que tenemos un dado de 6 caras. Definir el conjunto A como el evento en el que sale un número mayor que 4 (A={5,6}), \n",
    "#y el conjunto B como el evento en el que sale un número menor que 3 (B={1,2}).\n",
    "#Calcular P(A∪B)  y P(A∩B).\n",
    "\n",
    "# Definimos el espacio muestral y los conjuntos A y B\n",
    "S = {1, 2, 3, 4, 5, 6}\n",
    "A = {5, 6}\n",
    "B = {1, 2}\n",
    "\n",
    "# Cálculo de intersección y unión\n",
    "A_intersection_B = [x for x in A if x in B]          # No hay elementos comunes, por lo que A∩B=0\n",
    "A_union_B = list(A) + [x for x in B if x not in A]   # La unión de los dos conjuntos es {1,2,5,6}.\n",
    "\n",
    "# Cálculo de probabilidades\n",
    "P_A = len(A) / len(S)\n",
    "P_B = len(B) / len(S)\n",
    "P_A_intersection_B = len(A_intersection_B) / len(S)  # = 0/6\n",
    "P_A_union_B = len(A_union_B) / len(S)                # = 4/6\n",
    "\n",
    "# Verificación de la fórmula para conjuntos disjuntos\n",
    "P_A_union_B_formula = P_A + P_B\n",
    "\n",
    "print(f\"Ejercicio: Conjuntos Disjuntos\")\n",
    "print(f\"P(A ∪ B) = {P_A_union_B:.2f}\")\n",
    "print(f\"P(A ∩ B) = {P_A_intersection_B:.2f}\")\n",
    "print(f\"Verificación de la fórmula P(A ∪ B) = P(A) + P(B) cuando son disjuntos: {P_A_union_B_formula:.2f}\")"
   ]
  },
  {
   "cell_type": "code",
   "execution_count": 2,
   "id": "2b7e50f8",
   "metadata": {},
   "outputs": [
    {
     "name": "stdout",
     "output_type": "stream",
     "text": [
      "Ejercicio: Conjuntos No Disjuntos\n",
      "P(A ∪ B) = 0.67\n",
      "P(A ∩ B) = 0.17\n",
      "Verificación de la fórmula P(A ∪ B) = P(A) + P(B) - P(A ∩ B): 0.67\n"
     ]
    }
   ],
   "source": [
    "################# CONJUNTOS NO DISJUNTOS #################\n",
    "\n",
    "#Supongamos que tenemos un dado de 6 caras. Definir el conjunto A como el evento en el que el número que sale es par (A={2,4,6}),\n",
    "#y el conjunto B como el evento en el que el número que sale es menor que 3 (B={1,2}).\n",
    "#Calcular P(A∪B)  y P(A∩B).\n",
    "\n",
    "# Definimos el espacio muestral y los conjuntos A y B\n",
    "S = {1, 2, 3, 4, 5, 6}\n",
    "A = {2, 4, 6}\n",
    "B = {1, 2}\n",
    "\n",
    "# Cálculo de intersección y unión\n",
    "A_intersection_B = [x for x in A if x in B]         # Los elementos comunes entre A y B {2}.\n",
    "A_union_B = list(A) + [x for x in B if x not in A]  # La unión de los dos conjuntos es {1,2,4,6}\n",
    "\n",
    "# Cálculo de probabilidades\n",
    "P_A = len(A) / len(S)\n",
    "P_B = len(B) / len(S)\n",
    "P_A_intersection_B = len(A_intersection_B) / len(S)  # = 1/6\n",
    "P_A_union_B = len(A_union_B) / len(S)                # = 4/6\n",
    "\n",
    "# Verificación de la fórmula\n",
    "P_A_union_B_formula = P_A + P_B - P_A_intersection_B\n",
    "\n",
    "print(f\"Ejercicio: Conjuntos No Disjuntos\")\n",
    "print(f\"P(A ∪ B) = {P_A_union_B:.2f}\")\n",
    "print(f\"P(A ∩ B) = {P_A_intersection_B:.2f}\")\n",
    "print(f\"Verificación de la fórmula P(A ∪ B) = P(A) + P(B) - P(A ∩ B): {P_A_union_B_formula:.2f}\")"
   ]
  }
 ],
 "metadata": {
  "kernelspec": {
   "display_name": "Python 3 (ipykernel)",
   "language": "python",
   "name": "python3"
  },
  "language_info": {
   "codemirror_mode": {
    "name": "ipython",
    "version": 3
   },
   "file_extension": ".py",
   "mimetype": "text/x-python",
   "name": "python",
   "nbconvert_exporter": "python",
   "pygments_lexer": "ipython3",
   "version": "3.11.5"
  }
 },
 "nbformat": 4,
 "nbformat_minor": 5
}
