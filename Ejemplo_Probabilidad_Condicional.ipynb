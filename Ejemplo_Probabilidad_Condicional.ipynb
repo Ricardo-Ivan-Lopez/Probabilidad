{
 "cells": [
  {
   "cell_type": "code",
   "execution_count": 1,
   "id": "25e72254",
   "metadata": {},
   "outputs": [
    {
     "name": "stdout",
     "output_type": "stream",
     "text": [
      "La probabilidad de que un estudiante sea mujer dado que pasó el examen es: 0.50\n"
     ]
    }
   ],
   "source": [
    "############## Ejemplo probabilidad condicional ##############\n",
    "\"\"\"Supongamos que tenemos un conjunto de estudiantes en una clase, de los cuales:\n",
    "A: el evento de que un estudiante es mujer.\n",
    "B: el evento de que un estudiante pasa el examen.\n",
    "Si hay 40 estudiantes en total, 20 son mujeres y 15 de ellas pasaron el examen, y hay 30 estudiantes en total que pasaron, \n",
    "la probabilidad condicional de que un estudiante sea mujer dado que pasó el examen se calcularía así:\"\"\"\n",
    "\n",
    "# Datos\n",
    "total_mujeres = 20\n",
    "mujeres_que_pasan = 15\n",
    "total_estudiantes = 40\n",
    "estudiantes_que_pasan = 30\n",
    "\n",
    "# Probabilidades\n",
    "P_A_interseccion_B = mujeres_que_pasan / total_estudiantes  # P(A ∩ B)\n",
    "P_B = estudiantes_que_pasan / total_estudiantes   # P(B)\n",
    "\n",
    "# Probabilidad condicional P(A | B)\n",
    "P_A_dado_B = P_A_interseccion_B / P_B\n",
    "\n",
    "# Mostrar el resultado\n",
    "print(f\"La probabilidad de que un estudiante sea mujer dado que pasó el examen es: {P_A_dado_B:.2f}\")"
   ]
  },
  {
   "cell_type": "code",
   "execution_count": null,
   "id": "631328ad",
   "metadata": {},
   "outputs": [],
   "source": []
  },
  {
   "cell_type": "code",
   "execution_count": null,
   "id": "ab42d211",
   "metadata": {},
   "outputs": [],
   "source": []
  }
 ],
 "metadata": {
  "kernelspec": {
   "display_name": "Python 3 (ipykernel)",
   "language": "python",
   "name": "python3"
  },
  "language_info": {
   "codemirror_mode": {
    "name": "ipython",
    "version": 3
   },
   "file_extension": ".py",
   "mimetype": "text/x-python",
   "name": "python",
   "nbconvert_exporter": "python",
   "pygments_lexer": "ipython3",
   "version": "3.11.5"
  }
 },
 "nbformat": 4,
 "nbformat_minor": 5
}
