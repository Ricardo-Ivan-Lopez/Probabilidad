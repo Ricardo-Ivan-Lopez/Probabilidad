{
 "cells": [
  {
   "cell_type": "code",
   "execution_count": 8,
   "id": "6a195d73",
   "metadata": {},
   "outputs": [
    {
     "name": "stdout",
     "output_type": "stream",
     "text": [
      "Densidad marginal en x2 = 0: 0.7071067811865702\n"
     ]
    }
   ],
   "source": [
    "########## DENSIDAD MARGINAL PARA N=3  PARA EL CASO DE FUNCIONES DE DENSIDAD CONTINUAS ##########\n",
    "import numpy as np\n",
    "from scipy.integrate import nquad\n",
    "\n",
    "# Definimos la función de densidad conjunta \n",
    "def f(x1, x2, x3):\n",
    "    return (1 / (2 * np.pi * np.sqrt(2))) * np.exp(-0.5 * (x1**2 + x2**2 + x3**2))\n",
    "\n",
    "# Calculamos la densidad marginal respecto a la segunda variable x2\n",
    "def f_X2(x2):\n",
    "    intervalos = [[-np.inf, np.inf], [-np.inf, np.inf]]  # Intervalo para x1 y x3\n",
    "    resultado_integral, error = nquad(lambda x1, x3: f(x1, x2, x3), intervalos)\n",
    "    return resultado_integral\n",
    "\n",
    "# Ejemplo: calcular la densidad marginal para x2 = 0\n",
    "x2_valor = 0\n",
    "densidad_marginal_x2 = f_X2(x2_valor)\n",
    "print(f\"Densidad marginal en x2 = {x2_valor}: {densidad_marginal_x2}\")\n"
   ]
  },
  {
   "cell_type": "code",
   "execution_count": 7,
   "id": "7be9b71b",
   "metadata": {},
   "outputs": [
    {
     "name": "stdout",
     "output_type": "stream",
     "text": [
      "Densidad marginal en x1 = 0.5 para 4 dimensiones: 4.336618204329874\n"
     ]
    }
   ],
   "source": [
    "########## DENSIDAD MARGINAL PARA N-DIMENSIONES PARA EL CASO DE FUNCIONES DE DENSIDAD CONTINUAS ##########\n",
    "import numpy as np\n",
    "from scipy.integrate import nquad\n",
    "\n",
    "# Definimos la función de densidad conjunta en n dimensiones\n",
    "def f(*args):\n",
    "    return np.exp(-sum(x**2 for x in args))\n",
    "\n",
    "# Calculamos la densidad marginal respecto a la primera variable x1\n",
    "def f_X1(x1, n):\n",
    "    intervalos = [[-np.inf, np.inf]] * (n - 1)\n",
    "    integral_resultado, error = nquad(lambda *args: f(x1, *args), intervalos)\n",
    "    return integral_resultado\n",
    "\n",
    "# Ejemplo: calcular la densidad marginal para x1 = 0.5 en 4 dimensiones\n",
    "x1_valor = 0.5\n",
    "n_dimensiones = 4\n",
    "densidad_marginal_x1 = f_X1(x1_valor, n_dimensiones)\n",
    "print(f\"Densidad marginal en x1 = {x1_valor} para {n_dimensiones} dimensiones: {densidad_marginal_x1}\")"
   ]
  },
  {
   "cell_type": "code",
   "execution_count": null,
   "id": "62edf046",
   "metadata": {
    "scrolled": true
   },
   "outputs": [],
   "source": []
  },
  {
   "cell_type": "code",
   "execution_count": null,
   "id": "c331f80a",
   "metadata": {},
   "outputs": [],
   "source": []
  }
 ],
 "metadata": {
  "kernelspec": {
   "display_name": "Python 3 (ipykernel)",
   "language": "python",
   "name": "python3"
  },
  "language_info": {
   "codemirror_mode": {
    "name": "ipython",
    "version": 3
   },
   "file_extension": ".py",
   "mimetype": "text/x-python",
   "name": "python",
   "nbconvert_exporter": "python",
   "pygments_lexer": "ipython3",
   "version": "3.11.5"
  }
 },
 "nbformat": 4,
 "nbformat_minor": 5
}
